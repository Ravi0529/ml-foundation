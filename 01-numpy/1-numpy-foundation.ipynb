{
 "cells": [
  {
   "cell_type": "code",
   "execution_count": 1,
   "id": "33e21322-2401-43f5-8859-bc4dcd052f98",
   "metadata": {},
   "outputs": [],
   "source": [
    "import numpy as np"
   ]
  },
  {
   "cell_type": "markdown",
   "id": "b3c6768b-e425-4ca3-840a-7d119aaa7c3c",
   "metadata": {},
   "source": [
    "## Creating array from the list"
   ]
  },
  {
   "cell_type": "code",
   "execution_count": 4,
   "id": "6c1a46bd-0db7-4b7e-9b0f-8d7e53ad196f",
   "metadata": {},
   "outputs": [
    {
     "name": "stdout",
     "output_type": "stream",
     "text": [
      "arr1D [1 2 3 4 5]\n",
      "arr2D [[1 2 3]\n",
      " [4 5 6]]\n"
     ]
    }
   ],
   "source": [
    "arr_1 = np.array([1,2,3,4,5])\n",
    "print(\"arr1D\", arr_1)\n",
    "\n",
    "arr_2 = np.array([[1,2,3], [4,5,6]])\n",
    "print(\"arr2D\", arr_2)"
   ]
  },
  {
   "cell_type": "markdown",
   "id": "8ea4e677-d14b-4ce9-ac68-2acf07dcf00b",
   "metadata": {},
   "source": [
    "- Difference between list and numpy array"
   ]
  },
  {
   "cell_type": "code",
   "execution_count": 6,
   "id": "4ca3f334-5f05-42c9-be68-d9185c8b9e2f",
   "metadata": {},
   "outputs": [
    {
     "name": "stdout",
     "output_type": "stream",
     "text": [
      "[1, 2, 3, 1, 2, 3]\n",
      "[2 4 6]\n"
     ]
    }
   ],
   "source": [
    "py_list = [1,2,3]\n",
    "print(py_list * 2)\n",
    "\n",
    "np_array = np.array([1,2,3])\n",
    "print(np_array * 2)"
   ]
  },
  {
   "cell_type": "code",
   "execution_count": 7,
   "id": "6c249298-55f5-45f9-a87e-766743d2b23c",
   "metadata": {},
   "outputs": [
    {
     "name": "stdout",
     "output_type": "stream",
     "text": [
      "List operation time:  0.27643728256225586\n",
      "Numpy operation time:  0.009026050567626953\n"
     ]
    }
   ],
   "source": [
    "import time\n",
    "start = time.time()\n",
    "py_list = [i * 2 for i in range(1000000)]\n",
    "print(\"List operation time: \", time.time() - start)\n",
    "\n",
    "start = time.time()\n",
    "np_array = np.arange(1000000) * 2\n",
    "print(\"Numpy operation time: \", time.time() - start)"
   ]
  },
  {
   "cell_type": "markdown",
   "id": "f40187b5-281b-4aa8-ad52-57bb4657b47b",
   "metadata": {},
   "source": [
    "- Creating array from scratch"
   ]
  },
  {
   "cell_type": "code",
   "execution_count": 13,
   "id": "55f4afc9-ad33-40fd-97ad-360a96b65ffa",
   "metadata": {},
   "outputs": [
    {
     "name": "stdout",
     "output_type": "stream",
     "text": [
      "[[0. 0. 0. 0.]\n",
      " [0. 0. 0. 0.]\n",
      " [0. 0. 0. 0.]]\n",
      "[[1. 1. 1. 1.]\n",
      " [1. 1. 1. 1.]\n",
      " [1. 1. 1. 1.]]\n",
      "[[5 5 5]\n",
      " [5 5 5]\n",
      " [5 5 5]]\n",
      "[[0.39360564 0.68376416 0.54146411 0.57457048 0.80512067 0.67400045\n",
      "  0.90854761]\n",
      " [0.25906035 0.97852073 0.88613287 0.6266463  0.06689292 0.77535367\n",
      "  0.79282967]\n",
      " [0.98855177 0.27748722 0.47726067 0.43468113 0.61839342 0.60861075\n",
      "  0.78724806]\n",
      " [0.19723717 0.34540962 0.79609914 0.93989427 0.00839968 0.5506767\n",
      "  0.5310048 ]\n",
      " [0.56489356 0.13615852 0.11584109 0.12532579 0.73808207 0.26004607\n",
      "  0.57203198]]\n",
      "[0 2 4 6 8]\n"
     ]
    }
   ],
   "source": [
    "zeros = np.zeros((3, 4))\n",
    "print(zeros)\n",
    "\n",
    "ones = np.ones((3, 4))\n",
    "print(ones)\n",
    "\n",
    "full = np.full((3, 3), 5)\n",
    "print(full)\n",
    "\n",
    "random = np.random.random((5, 7)) # always between 0 - 1\n",
    "print(random)\n",
    "\n",
    "sequence = np.arange(0, 10, 2)\n",
    "print(sequence)"
   ]
  },
  {
   "cell_type": "markdown",
   "id": "16404f44-76da-4e7e-97af-2369fe247af7",
   "metadata": {},
   "source": [
    "## Vector, Matrix and Tensor"
   ]
  },
  {
   "cell_type": "code",
   "execution_count": 16,
   "id": "8d8b9b4b-5c7c-4000-b281-b7d73cca34e4",
   "metadata": {},
   "outputs": [
    {
     "name": "stdout",
     "output_type": "stream",
     "text": [
      "Vector:  [1 2 3]\n",
      "Matrix:  [[1 2 3]\n",
      " [4 5 6]]\n",
      "Tensor:  [[[1 2]\n",
      "  [3 4]]\n",
      "\n",
      " [[5 6]\n",
      "  [7 8]]]\n"
     ]
    }
   ],
   "source": [
    "vector = np.array([1, 2, 3])\n",
    "print(\"Vector: \", vector)\n",
    "\n",
    "matrix = np.array([[1,2,3], [4,5,6]])\n",
    "print(\"Matrix: \", matrix)\n",
    "\n",
    "tensor = np.array([[[1,2], [3,4]], [[5,6], [7,8]]])\n",
    "print(\"Tensor: \", tensor)"
   ]
  },
  {
   "cell_type": "markdown",
   "id": "f3e6d34b-1dab-4092-9064-028c6d13756c",
   "metadata": {},
   "source": [
    "- Array properties"
   ]
  },
  {
   "cell_type": "code",
   "execution_count": 18,
   "id": "95944f90-d9d0-498a-9423-51a6a83338ed",
   "metadata": {},
   "outputs": [
    {
     "name": "stdout",
     "output_type": "stream",
     "text": [
      "Shape:  (2, 3)\n",
      "Dimention:  2\n",
      "Size:  6\n",
      "DType:  int64\n"
     ]
    }
   ],
   "source": [
    "arr = np.array([[1,2,4], [4,5,6]])\n",
    "print(\"Shape: \", arr.shape)\n",
    "print(\"Dimention: \", arr.ndim)\n",
    "print(\"Size: \", arr.size)\n",
    "print(\"DType: \", arr.dtype)"
   ]
  },
  {
   "cell_type": "markdown",
   "id": "ad348e0c-5592-43dd-803f-f5b29193c9b9",
   "metadata": {},
   "source": [
    "- Array Reshaping"
   ]
  },
  {
   "cell_type": "code",
   "execution_count": 24,
   "id": "d55a977b-6923-4cd4-88ad-d5786b38c97e",
   "metadata": {},
   "outputs": [
    {
     "name": "stdout",
     "output_type": "stream",
     "text": [
      "Original array:  [ 0  1  2  3  4  5  6  7  8  9 10 11]\n",
      "Reshaped array: \n",
      " [[ 0  1  2  3]\n",
      " [ 4  5  6  7]\n",
      " [ 8  9 10 11]]\n",
      "Flattened array:  [ 0  1  2  3  4  5  6  7  8  9 10 11]\n",
      "Raveled array:  [ 0  1  2  3  4  5  6  7  8  9 10 11]\n",
      "Transposed array: \n",
      " [[ 0  4  8]\n",
      " [ 1  5  9]\n",
      " [ 2  6 10]\n",
      " [ 3  7 11]]\n"
     ]
    }
   ],
   "source": [
    "arr = np.arange(12)\n",
    "print(\"Original array: \", arr)\n",
    "\n",
    "reshaped = arr.reshape((3, 4))\n",
    "print(\"Reshaped array: \\n\", reshaped)\n",
    "\n",
    "flattened = reshaped.flatten()\n",
    "print(\"Flattened array: \", flattened)\n",
    "\n",
    "# ravel (returns view, instead of copy)\n",
    "raveled = reshaped.ravel()\n",
    "print(\"Raveled array: \", raveled)\n",
    "\n",
    "# Transpose\n",
    "transpose = reshaped.T\n",
    "print(\"Transposed array: \\n\", transpose)"
   ]
  }
 ],
 "metadata": {
  "kernelspec": {
   "display_name": "Python (myenv)",
   "language": "python",
   "name": "myenv"
  },
  "language_info": {
   "codemirror_mode": {
    "name": "ipython",
    "version": 3
   },
   "file_extension": ".py",
   "mimetype": "text/x-python",
   "name": "python",
   "nbconvert_exporter": "python",
   "pygments_lexer": "ipython3",
   "version": "3.12.0"
  }
 },
 "nbformat": 4,
 "nbformat_minor": 5
}
