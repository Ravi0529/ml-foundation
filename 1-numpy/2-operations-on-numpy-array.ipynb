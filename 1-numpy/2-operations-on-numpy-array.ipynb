{
 "cells": [
  {
   "cell_type": "markdown",
   "id": "3bd92ffd-8216-4edf-af74-e033136a9d93",
   "metadata": {},
   "source": [
    "## Numpy Array operations"
   ]
  },
  {
   "cell_type": "code",
   "execution_count": 1,
   "id": "8402671d-37ff-4840-b168-10a197bcaa13",
   "metadata": {},
   "outputs": [],
   "source": [
    "import numpy as np"
   ]
  },
  {
   "cell_type": "code",
   "execution_count": 3,
   "id": "d5611a96-2088-4868-86b2-448bd4aa098a",
   "metadata": {},
   "outputs": [
    {
     "name": "stdout",
     "output_type": "stream",
     "text": [
      "[3 4 5 6 7]\n"
     ]
    }
   ],
   "source": [
    "arr = np.arange(1, 11)\n",
    "print(arr[2:7]) # basic slicing"
   ]
  },
  {
   "cell_type": "code",
   "execution_count": 4,
   "id": "f9c8472f-ea24-4c99-9023-7e1464e21541",
   "metadata": {},
   "outputs": [
    {
     "name": "stdout",
     "output_type": "stream",
     "text": [
      "Specific element:  6\n",
      "Entire row:  [4 5 6]\n",
      "Entire column:  [2 5 8]\n"
     ]
    }
   ],
   "source": [
    "arr = np.array([[1,2,3], [4,5,6], [7,8,9]])\n",
    "print(\"Specific element: \", arr[1, 2])\n",
    "print(\"Entire row: \", arr[1])\n",
    "print(\"Entire column: \", arr[:, 1])"
   ]
  },
  {
   "cell_type": "markdown",
   "id": "f17862b8-c1ab-458c-898f-075406412cdd",
   "metadata": {},
   "source": [
    "- Sorting"
   ]
  },
  {
   "cell_type": "code",
   "execution_count": 8,
   "id": "c896158e-fc78-4252-8399-45f991ebd5ed",
   "metadata": {},
   "outputs": [
    {
     "name": "stdout",
     "output_type": "stream",
     "text": [
      "Sorted array:  [1 1 2 3 3 3 5 7]\n",
      "Sorted 2D array by column: \n",
      " [[1 1]\n",
      " [2 2]\n",
      " [3 3]]\n",
      "Sorted 2D array by row: \n",
      " [[1 3]\n",
      " [1 2]\n",
      " [2 3]]\n"
     ]
    }
   ],
   "source": [
    "unsorted = np.array([3,1,5,7,2,3,3,1])\n",
    "print(\"Sorted array: \", np.sort(unsorted))\n",
    "\n",
    "arr_2d_unsorted = np.array([[3,1], [1,2], [2,3]])\n",
    "print(\"Sorted 2D array by column: \\n\", np.sort(arr_2d_unsorted, axis=0))\n",
    "print(\"Sorted 2D array by row: \\n\", np.sort(arr_2d_unsorted, axis=1))"
   ]
  },
  {
   "cell_type": "markdown",
   "id": "03f609f3-f07d-43ac-be7c-32fe75eac152",
   "metadata": {},
   "source": [
    "- Filter"
   ]
  },
  {
   "cell_type": "code",
   "execution_count": 9,
   "id": "55b492e2-6592-4f64-821a-7ee77e3f8623",
   "metadata": {},
   "outputs": [
    {
     "name": "stdout",
     "output_type": "stream",
     "text": [
      "[ 2  4  6  8 10]\n"
     ]
    }
   ],
   "source": [
    "numbers = np.arange(1, 11)\n",
    "even_numbers = numbers[numbers % 2 == 0]\n",
    "print(even_numbers)"
   ]
  },
  {
   "cell_type": "markdown",
   "id": "1a3e2514-01da-4388-8a51-a1d0cc2ad7bc",
   "metadata": {},
   "source": [
    "- Filter with mask"
   ]
  },
  {
   "cell_type": "code",
   "execution_count": 10,
   "id": "7c9ddd97-5121-4815-ad17-d4b864d55dbe",
   "metadata": {},
   "outputs": [
    {
     "name": "stdout",
     "output_type": "stream",
     "text": [
      "Number greated than 5:  [ 6  7  8  9 10]\n"
     ]
    }
   ],
   "source": [
    "mask = numbers > 5\n",
    "print(\"Number greated than 5: \", numbers[mask])"
   ]
  },
  {
   "cell_type": "markdown",
   "id": "9ad16dbf-79df-458c-86ab-6b8097825519",
   "metadata": {},
   "source": [
    "- Fancy indexing vs np.where()"
   ]
  },
  {
   "cell_type": "code",
   "execution_count": 12,
   "id": "12b8208f-3984-40d4-adbb-4b75f808234b",
   "metadata": {},
   "outputs": [
    {
     "name": "stdout",
     "output_type": "stream",
     "text": [
      "[1 3 5]\n"
     ]
    }
   ],
   "source": [
    "indices = [0, 2, 4] # 0th value, 2nd value and 4th value\n",
    "print(numbers[indices])"
   ]
  },
  {
   "cell_type": "code",
   "execution_count": 15,
   "id": "8feaed04-6923-435d-a1a4-41673a0343f3",
   "metadata": {},
   "outputs": [
    {
     "name": "stdout",
     "output_type": "stream",
     "text": [
      "(array([5, 6, 7, 8, 9]),)\n",
      "[ 6  7  8  9 10]\n"
     ]
    }
   ],
   "source": [
    "where_result = np.where(numbers > 5)\n",
    "print(where_result)\n",
    "print(numbers[where_result])"
   ]
  },
  {
   "cell_type": "code",
   "execution_count": 16,
   "id": "bd60b2d8-9f38-4057-a47f-ac200e3e3010",
   "metadata": {},
   "outputs": [
    {
     "name": "stdout",
     "output_type": "stream",
     "text": [
      "[ 1  2  3  4  5 30 35 40 45 50]\n"
     ]
    }
   ],
   "source": [
    "condition_array = np.where(numbers > 5, numbers * 5, numbers)\n",
    "print(condition_array)"
   ]
  },
  {
   "cell_type": "markdown",
   "id": "77e4b428-0f22-49fb-9ec1-f0f33ee89eb2",
   "metadata": {},
   "source": [
    "- Adding and removing data"
   ]
  },
  {
   "cell_type": "code",
   "execution_count": 17,
   "id": "0e2cf81a-4630-4777-8cdd-01b614fe88dd",
   "metadata": {},
   "outputs": [
    {
     "name": "stdout",
     "output_type": "stream",
     "text": [
      "[1 2 3 4 5 6]\n"
     ]
    }
   ],
   "source": [
    "arr1 = np.array([1,2,3])\n",
    "arr2 = np.array([4,5,6])\n",
    "\n",
    "combined = np.concatenate((arr1, arr2))\n",
    "print(combined)"
   ]
  },
  {
   "cell_type": "markdown",
   "id": "eac967a1-0fe4-46a3-af9b-3553469bb885",
   "metadata": {},
   "source": [
    "- Array compatibility"
   ]
  },
  {
   "cell_type": "code",
   "execution_count": 19,
   "id": "32deff6c-578b-4c9a-bed4-5e1b829154ef",
   "metadata": {},
   "outputs": [
    {
     "name": "stdout",
     "output_type": "stream",
     "text": [
      "Compatibility shapes:  True\n",
      "Compatibility shapes:  False\n"
     ]
    }
   ],
   "source": [
    "arr1 = np.array([1,2,3])\n",
    "arr2 = np.array([4,5,6])\n",
    "arr3 = np.array([7,8,9,10])\n",
    "\n",
    "print(\"Compatibility shapes: \", arr1.shape == arr2.shape)\n",
    "print(\"Compatibility shapes: \", arr1.shape == arr3.shape)"
   ]
  },
  {
   "cell_type": "code",
   "execution_count": 21,
   "id": "e5c1688b-da13-4d90-ac4d-8e43679380e7",
   "metadata": {},
   "outputs": [
    {
     "name": "stdout",
     "output_type": "stream",
     "text": [
      "[[1 2]\n",
      " [3 4]\n",
      " [5 6]]\n",
      "[[1 2 7]\n",
      " [3 4 8]]\n"
     ]
    }
   ],
   "source": [
    "original = np.array([[1,2], [3,4]])\n",
    "new_row = np.array([[5,6]])\n",
    "with_new_row = np.vstack((original, new_row))\n",
    "print(with_new_row)\n",
    "\n",
    "new_col = np.array([[7], [8]])\n",
    "with_new_col = np.hstack((original, new_col))\n",
    "print(with_new_col)"
   ]
  },
  {
   "cell_type": "code",
   "execution_count": 23,
   "id": "c0894134-1ba2-4d92-a470-d46eba2a44e7",
   "metadata": {},
   "outputs": [
    {
     "name": "stdout",
     "output_type": "stream",
     "text": [
      "[1 2 3 4]\n"
     ]
    }
   ],
   "source": [
    "arr = np.array([1,2,3,4,5])\n",
    "deleted = np.delete(arr, 4)\n",
    "print(deleted)"
   ]
  }
 ],
 "metadata": {
  "kernelspec": {
   "display_name": "Python (myenv)",
   "language": "python",
   "name": "myenv"
  },
  "language_info": {
   "codemirror_mode": {
    "name": "ipython",
    "version": 3
   },
   "file_extension": ".py",
   "mimetype": "text/x-python",
   "name": "python",
   "nbconvert_exporter": "python",
   "pygments_lexer": "ipython3",
   "version": "3.12.0"
  }
 },
 "nbformat": 4,
 "nbformat_minor": 5
}
